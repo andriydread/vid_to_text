{
 "cells": [
  {
   "cell_type": "code",
   "execution_count": 99,
   "metadata": {},
   "outputs": [
    {
     "name": "stdout",
     "output_type": "stream",
     "text": [
      "Requirement already satisfied: mock in /home/dread/miniconda3/lib/python3.12/site-packages (5.1.0)\n",
      "Requirement already satisfied: pytube in /home/dread/miniconda3/lib/python3.12/site-packages (15.0.0)\n"
     ]
    }
   ],
   "source": [
    "! pip install -U mock pytube "
   ]
  },
  {
   "cell_type": "code",
   "execution_count": 98,
   "metadata": {},
   "outputs": [],
   "source": [
    "import re\n",
    "import mock\n",
    "import os\n",
    "\n",
    "from pytube.cipher import get_throttling_function_code\n",
    "\n",
    "def patched_throttling_plan(js: str):\n",
    "    \"\"\"Patch throttling plan, from https://github.com/pytube/pytube/issues/1498\"\"\"\n",
    "    raw_code = get_throttling_function_code(js)\n",
    "\n",
    "    transform_start = r\"try{\"\n",
    "    plan_regex = re.compile(transform_start)\n",
    "    match = plan_regex.search(raw_code)\n",
    "\n",
    "    #transform_plan_raw = find_object_from_startpoint(raw_code, match.span()[1] - 1)\n",
    "    transform_plan_raw = js\n",
    "\n",
    "    # Steps are either c[x](c[y]) or c[x](c[y],c[z])\n",
    "    step_start = r\"c\\[(\\d+)\\]\\(c\\[(\\d+)\\](,c(\\[(\\d+)\\]))?\\)\"\n",
    "    step_regex = re.compile(step_start)\n",
    "    matches = step_regex.findall(transform_plan_raw)\n",
    "    transform_steps = []\n",
    "    for match in matches:\n",
    "        if match[4] != '':\n",
    "            transform_steps.append((match[0],match[1],match[4]))\n",
    "        else:\n",
    "            transform_steps.append((match[0],match[1]))\n",
    "\n",
    "    return transform_steps\n",
    "\n",
    "\n",
    "with mock.patch('pytube.cipher.get_throttling_plan', patched_throttling_plan):\n",
    "    from pytube import YouTube\n",
    "\n",
    "    url = 'https://www.youtube.com/watch?v=VIR46oH-ufk&ab_channel=Horses'\n",
    "\n",
    "    video = YouTube(url)\n",
    "    audio = video.streams.filter(only_audio=True, file_extension='mp4')[0]\n",
    "\n",
    "    os.mkdir(video.title)\n",
    "\n",
    "    audio.download(filename=video.title + '/' + video.title + '.mp4')"
   ]
  },
  {
   "cell_type": "code",
   "execution_count": null,
   "metadata": {},
   "outputs": [],
   "source": [
    "! pip install openai-whisper "
   ]
  },
  {
   "cell_type": "code",
   "execution_count": null,
   "metadata": {},
   "outputs": [],
   "source": [
    "import whisper\n",
    "\n",
    "model = whisper.load_model(\"tiny.en\")\n",
    "text = model.transcribe(video.title + '.mp4')\n",
    "\n",
    "with open('text.txt', 'w') as f:\n",
    "    f.write(text[\"text\"])\n",
    "    f.close()"
   ]
  },
  {
   "cell_type": "code",
   "execution_count": null,
   "metadata": {},
   "outputs": [],
   "source": [
    "content = open('text.txt', 'r').read()\n",
    "print(content)"
   ]
  },
  {
   "cell_type": "code",
   "execution_count": null,
   "metadata": {},
   "outputs": [],
   "source": [
    "# Installs langchain libraries\n",
    "! pip install -U langchain langchain_openai"
   ]
  },
  {
   "cell_type": "code",
   "execution_count": null,
   "metadata": {},
   "outputs": [],
   "source": [
    "from langchain.prompts import PromptTemplate\n",
    "from langchain_openai import ChatOpenAI\n",
    "\n",
    "\n",
    "from langchain.cache import SQLiteCache\n",
    "from langchain.globals import set_llm_cache\n",
    "set_llm_cache(SQLiteCache(database_path=\".langchain.db\"))\n",
    "\n",
    "\n",
    "from langchain_core.output_parsers import StrOutputParser\n",
    "output_parser = StrOutputParser()\n",
    "\n",
    "\n",
    "\n",
    "\n",
    "model = ChatOpenAI(model_name=\"gpt-3.5-turbo\", temperature=0.5)\n",
    "\n",
    "prompt = PromptTemplate(\n",
    "    # template=\"\"\"Create 3 separate paragraphs based on this text, start the first paragraph with the words /\n",
    "    # 'The idea of ​​this text...' and make it one sentence long, start second paragraph with 'Content of this text...' and provide shortened version of originat provided text, make it at least 8 sentences long,\n",
    "    # in the third paragraph give me 4 simple statements in numbered list form based on of this text. Text ====== {text}\"\"\",\n",
    "    template= \"\"\"\n",
    "        Review this text and summarize it -----{text}\n",
    "    \"\"\",\n",
    "    input_variables=[\"text\"],\n",
    ")"
   ]
  },
  {
   "cell_type": "code",
   "execution_count": null,
   "metadata": {},
   "outputs": [],
   "source": [
    "chain = prompt | model | output_parser\n",
    "\n",
    "with open('response.txt', 'w') as f:\n",
    "    f.write(chain.invoke(content))\n",
    "    f.close()"
   ]
  },
  {
   "cell_type": "code",
   "execution_count": null,
   "metadata": {},
   "outputs": [],
   "source": [
    "from openai import OpenAI\n",
    "\n",
    "client = OpenAI()\n",
    "response = client.audio.speech.create(\n",
    "    model = 'tts-1',\n",
    "    voice = 'echo',\n",
    "    input = open('response.txt', 'r').read()\n",
    ")\n",
    "response.stream_to_file('response.mp4')"
   ]
  }
 ],
 "metadata": {
  "kernelspec": {
   "display_name": "Python 3 (ipykernel)",
   "language": "python",
   "name": "python3"
  },
  "language_info": {
   "codemirror_mode": {
    "name": "ipython",
    "version": 3
   },
   "file_extension": ".py",
   "mimetype": "text/x-python",
   "name": "python",
   "nbconvert_exporter": "python",
   "pygments_lexer": "ipython3",
   "version": "3.12.2"
  }
 },
 "nbformat": 4,
 "nbformat_minor": 2
}
