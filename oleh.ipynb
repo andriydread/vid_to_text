{
 "cells": [
  {
   "cell_type": "code",
   "execution_count": 6,
   "metadata": {},
   "outputs": [],
   "source": [
    "#! pip install -U mock pytube \n",
    "#! pip install openai-whisper \n",
    "\n",
    "# Installs langchain libraries\n",
    "#! pip install -U langchain langchain_openai"
   ]
  },
  {
   "cell_type": "code",
   "execution_count": 7,
   "metadata": {},
   "outputs": [
    {
     "name": "stdout",
     "output_type": "stream",
     "text": [
      "\u001b[33mWARNING: Skipping pytube as it is not installed.\u001b[0m\u001b[33m\r\n",
      "\u001b[0m"
     ]
    }
   ],
   "source": [
    "! pip uninstall -y pytube"
   ]
  },
  {
   "cell_type": "code",
   "execution_count": 8,
   "metadata": {},
   "outputs": [],
   "source": [
    "#url = 'https://www.youtube.com/watch?v=VIR46oH-ufk&ab_channel=Horses'\n",
    "#url = 'https://www.youtube.com/watch?v=0yGCB8y7u5c'\n",
    "#url = 'https://www.youtube.com/watch?v=6RUR6an5hOY'\n",
    "#url = 'https://www.youtube.com/watch?v=zNpeVw1LAq4'\n",
    "#url = 'https://www.youtube.com/watch?v=M8DMuOx8qCo'\n",
    "#url = 'https://www.youtube.com/watch?v=yYTSdlOdkn0'\n",
    "#url = 'https://www.youtube.com/watch?v=UUsVTEUfJAY'\n",
    "url = 'https://www.youtube.com/watch?v=rfPQ2y857eM'"
   ]
  },
  {
   "cell_type": "code",
   "execution_count": 9,
   "metadata": {},
   "outputs": [
    {
     "name": "stdout",
     "output_type": "stream",
     "text": [
      "bullshit is fixed\n"
     ]
    }
   ],
   "source": [
    "import re\n",
    "import mock\n",
    "import os\n",
    "\n",
    "from pytube.cipher import get_throttling_function_code\n",
    "\n",
    "from pytube import YouTube\n",
    "\n",
    "def patched_throttling_plan(js: str):\n",
    "    \"\"\"Patch throttling plan, from https://github.com/pytube/pytube/issues/1498\"\"\"\n",
    "    raw_code = get_throttling_function_code(js)\n",
    "\n",
    "    transform_start = r\"try{\"\n",
    "    plan_regex = re.compile(transform_start)\n",
    "    match = plan_regex.search(raw_code)\n",
    "\n",
    "    #transform_plan_raw = find_object_from_startpoint(raw_code, match.span()[1] - 1)\n",
    "    transform_plan_raw = js\n",
    "\n",
    "    # Steps are either c[x](c[y]) or c[x](c[y],c[z])\n",
    "    step_start = r\"c\\[(\\d+)\\]\\(c\\[(\\d+)\\](,c(\\[(\\d+)\\]))?\\)\"\n",
    "    step_regex = re.compile(step_start)\n",
    "    matches = step_regex.findall(transform_plan_raw)\n",
    "    transform_steps = []\n",
    "    for match in matches:\n",
    "        if match[4] != '':\n",
    "            transform_steps.append((match[0],match[1],match[4]))\n",
    "        else:\n",
    "            transform_steps.append((match[0],match[1]))\n",
    "\n",
    "    return transform_steps\n",
    "\n",
    "\n",
    "with mock.patch('pytube.cipher.get_throttling_plan', patched_throttling_plan):\n",
    "    from pytube import YouTube\n",
    "\n",
    "    video = YouTube(url)\n",
    "    \n",
    "    audio = video.streams.filter(only_audio=True, file_extension='mp4')[0]\n",
    "\n",
    "    os.mkdir(video.video_id)\n",
    "\n",
    "    audio.download(filename='{}/source.mp4'.format(video.video_id))"
   ]
  },
  {
   "cell_type": "code",
   "execution_count": 11,
   "metadata": {},
   "outputs": [],
   "source": [
    "import json\n",
    "json.dumps(video.vid_info, indent=4)\n",
    "\n",
    "with open('{}/vid_info.json'.format(video.video_id), 'w', encoding='utf-8') as f:\n",
    "    json.dump(video.vid_info, f, ensure_ascii=False, indent=4)"
   ]
  },
  {
   "cell_type": "code",
   "execution_count": 12,
   "metadata": {},
   "outputs": [],
   "source": [
    "import whisper\n",
    "\n",
    "model = whisper.load_model(\"tiny.en\")\n",
    "text = model.transcribe('{}/source.mp4'.format(video.video_id), fp16=False)\n",
    "\n",
    "with open('{}/transcribe.txt'.format(video.video_id), 'w') as f:\n",
    "    f.write(text[\"text\"])\n",
    "    f.close()"
   ]
  },
  {
   "cell_type": "code",
   "execution_count": 13,
   "metadata": {},
   "outputs": [],
   "source": [
    "content = open('{}/transcribe.txt'.format(video.video_id), 'r').read()"
   ]
  },
  {
   "cell_type": "code",
   "execution_count": 14,
   "metadata": {},
   "outputs": [],
   "source": [
    "from langchain.prompts import PromptTemplate\n",
    "from langchain_openai import ChatOpenAI\n",
    "\n",
    "from langchain.cache import SQLiteCache\n",
    "from langchain.globals import set_llm_cache\n",
    "set_llm_cache(SQLiteCache(database_path=\".langchain.db\"))\n",
    "\n",
    "\n",
    "from langchain_core.output_parsers import StrOutputParser\n",
    "output_parser = StrOutputParser()\n",
    "\n",
    "model = ChatOpenAI(model_name=\"gpt-3.5-turbo\", temperature=0.5)\n",
    "\n",
    "prompt = PromptTemplate(\n",
    "    # template=\"\"\"Create 3 separate paragraphs based on this text, start the first paragraph with the words /\n",
    "    # 'The idea of ​​this text...' and make it one sentence long, start second paragraph with 'Content of this text...' and provide shortened version of originat provided text, make it at least 8 sentences long,\n",
    "    # in the third paragraph give me 4 simple statements in numbered list form based on of this text. Text ====== {text}\"\"\",\n",
    "    template= \"\"\"\n",
    "        Review this text and summarize it -----{text}\n",
    "    \"\"\",\n",
    "    input_variables=[\"text\"],\n",
    ")"
   ]
  },
  {
   "cell_type": "code",
   "execution_count": 15,
   "metadata": {},
   "outputs": [],
   "source": [
    "chain = prompt | model | output_parser\n",
    "\n",
    "with open('{}/summary.txt'.format(video.video_id), 'w') as f:\n",
    "    f.write(chain.invoke(content))\n",
    "    f.close()"
   ]
  },
  {
   "cell_type": "code",
   "execution_count": 16,
   "metadata": {},
   "outputs": [
    {
     "name": "stderr",
     "output_type": "stream",
     "text": [
      "/var/folders/cl/p49jc8jj1cqc884mvd20bm6c0000gn/T/ipykernel_60316/477361583.py:9: DeprecationWarning: Due to a bug, this method doesn't actually stream the response content, `.with_streaming_response.method()` should be used instead\n",
      "  response.stream_to_file('{}/summary.mp4'.format(video.video_id))\n"
     ]
    }
   ],
   "source": [
    "from openai import OpenAI\n",
    "\n",
    "client = OpenAI()\n",
    "response = client.audio.speech.create(\n",
    "    model = 'tts-1',\n",
    "    voice = 'echo',\n",
    "    input = open('{}/summary.txt'.format(video.video_id), 'r').read()\n",
    ")\n",
    "response.stream_to_file('{}/summary.mp4'.format(video.video_id))"
   ]
  },
  {
   "cell_type": "code",
   "execution_count": 20,
   "metadata": {},
   "outputs": [
    {
     "name": "stdout",
     "output_type": "stream",
     "text": [
      "yYTSdlOdkn0 Decaf Explained\n",
      "rfPQ2y857eM AI Case Studies for Natural Science Research with Bonnie Kruft\n",
      "zNpeVw1LAq4 Get your ENERGY back: The Scientific Secrets you need to know | Episode 13 of 18\n",
      "M8DMuOx8qCo How Running Changes Your Body (Once a Week is Enough!)\n",
      "UUsVTEUfJAY Google Engineers On Learnings From Building Gemini\n"
     ]
    }
   ],
   "source": [
    "from IPython.display import HTML\n",
    "\n",
    "subfolders= [f.path for f in os.scandir('.') if f.is_dir() and not f.path.startswith(\"./.\")]\n",
    "for folder in subfolders:\n",
    "    if os.path.exists('{}/vid_info.json'.format(folder)):\n",
    "        with open('{}/vid_info.json'.format(folder), 'r') as f:\n",
    "            data = json.load(f)\n",
    "            print(data['videoDetails']['videoId'], data['videoDetails']['title'])\n",
    "        "
   ]
  },
  {
   "cell_type": "code",
   "execution_count": 21,
   "metadata": {},
   "outputs": [
    {
     "data": {
      "text/html": [
       "\n",
       "    <video alt=\"test\" controls>\n",
       "        <source src=\"./UUsVTEUfJAY/summary.mp4\" type=\"video/mp4\">\n",
       "    </video>\n"
      ],
      "text/plain": [
       "<IPython.core.display.HTML object>"
      ]
     },
     "execution_count": 21,
     "metadata": {},
     "output_type": "execute_result"
    }
   ],
   "source": [
    "HTML(\"\"\"\n",
    "    <video alt=\"test\" controls>\n",
    "        <source src=\"./UUsVTEUfJAY/summary.mp4\" type=\"video/mp4\">\n",
    "    </video>\n",
    "\"\"\")"
   ]
  },
  {
   "cell_type": "code",
   "execution_count": null,
   "metadata": {},
   "outputs": [],
   "source": []
  }
 ],
 "metadata": {
  "kernelspec": {
   "display_name": "Python 3 (ipykernel)",
   "language": "python",
   "name": "python3"
  },
  "language_info": {
   "codemirror_mode": {
    "name": "ipython",
    "version": 3
   },
   "file_extension": ".py",
   "mimetype": "text/x-python",
   "name": "python",
   "nbconvert_exporter": "python",
   "pygments_lexer": "ipython3",
   "version": "3.9.15"
  }
 },
 "nbformat": 4,
 "nbformat_minor": 2
}
